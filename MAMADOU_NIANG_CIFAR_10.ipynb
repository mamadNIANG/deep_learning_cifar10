{
 "cells": [
  {
   "cell_type": "code",
   "execution_count": 5,
   "id": "58573463",
   "metadata": {},
   "outputs": [],
   "source": [
    "from tensorflow import keras\n",
    "from tensorflow.keras import datasets, layers, models\n",
    "import matplotlib.pyplot as plot\n",
    "import numpy as np"
   ]
  },
  {
   "cell_type": "markdown",
   "id": "eb0f33fd",
   "metadata": {},
   "source": [
    "Partie A DATA"
   ]
  },
  {
   "cell_type": "code",
   "execution_count": 6,
   "id": "d294d419",
   "metadata": {},
   "outputs": [],
   "source": [
    "from tensorflow.keras.datasets import cifar10"
   ]
  },
  {
   "cell_type": "code",
   "execution_count": 46,
   "id": "0fb569ca",
   "metadata": {},
   "outputs": [],
   "source": [
    "#data loading\n",
    "(x_train_data, y_train_data),(x_test_data, y_test_data) = datasets.cifar10.load_data()"
   ]
  },
  {
   "cell_type": "code",
   "execution_count": 50,
   "id": "05abdc30",
   "metadata": {},
   "outputs": [
    {
     "data": {
      "text/plain": [
       "(50000, 32, 32, 3)"
      ]
     },
     "execution_count": 50,
     "metadata": {},
     "output_type": "execute_result"
    }
   ],
   "source": [
    "#train_shape\n",
    "x_train_data.shape"
   ]
  },
  {
   "cell_type": "code",
   "execution_count": 51,
   "id": "495d5bb9",
   "metadata": {},
   "outputs": [
    {
     "data": {
      "text/plain": [
       "(10000, 32, 32, 3)"
      ]
     },
     "execution_count": 51,
     "metadata": {},
     "output_type": "execute_result"
    }
   ],
   "source": [
    "#test_shape\n",
    "x_test_data.shape"
   ]
  },
  {
   "cell_type": "code",
   "execution_count": 56,
   "id": "16852eb8",
   "metadata": {},
   "outputs": [],
   "source": [
    "#creation des classes de cifar10\n",
    "num_classe = 10\n",
    "classes =['airplane','automobile','bird','cat','deer','dog','frog','horse','ship','truck']"
   ]
  },
  {
   "cell_type": "code",
   "execution_count": 136,
   "id": "a158a1b6",
   "metadata": {},
   "outputs": [],
   "source": [
    "#data processing\n",
    "y_train = keras.utils.to_categorical(y_train_data , num_classe) #attribuer les classes a notre target\n",
    "x_train = x_train_data.reshape(50000,32,32,3) #transforme les données\n",
    "#x_train= x_train.astype('float32') # on change aussi le format\n",
    "#x_train= x_train/255 #on normalise nos données \n",
    "#x_test= x_test_data/255"
   ]
  },
  {
   "cell_type": "code",
   "execution_count": null,
   "id": "e8dd7823",
   "metadata": {},
   "outputs": [],
   "source": [
    "y_test = keras.utils.to_categorical(y_test_data , num_classe)"
   ]
  },
  {
   "cell_type": "code",
   "execution_count": 60,
   "id": "f340d5cf",
   "metadata": {},
   "outputs": [
    {
     "data": {
      "text/plain": [
       "array([6, 9, 9, 4, 1], dtype=uint8)"
      ]
     },
     "execution_count": 60,
     "metadata": {},
     "output_type": "execute_result"
    }
   ],
   "source": [
    "#il faut faire un reshape de y_train_data\n",
    "y_train = y_train_data.reshape(-1,)\n",
    "y_train[:5]"
   ]
  },
  {
   "cell_type": "markdown",
   "id": "2a048f63",
   "metadata": {},
   "source": [
    "partie B reseau"
   ]
  },
  {
   "cell_type": "markdown",
   "id": "5f41da03",
   "metadata": {},
   "source": [
    "On commence par faire un reseau de neurone Artificiel pour voir ce que ça va donner\n",
    "\n",
    "#ANN"
   ]
  },
  {
   "cell_type": "code",
   "execution_count": 26,
   "id": "5c5be85b",
   "metadata": {},
   "outputs": [],
   "source": [
    "Dense= layers.Dense"
   ]
  },
  {
   "cell_type": "code",
   "execution_count": 40,
   "id": "e872100d",
   "metadata": {},
   "outputs": [],
   "source": [
    "ann= models.Sequential()\n",
    "p=100\n",
    "ann.add(Dense(p, input_dim=32*32*3, activation='sigmoid'))\n",
    "ann.add(Dense(p, activation='sigmoid'))\n",
    "ann.add(Dense(p, activation='sigmoid'))\n",
    "ann.add(Dense(p, activation='sigmoid'))\n",
    "ann.add(Dense(10, activation='softmax'))"
   ]
  },
  {
   "cell_type": "code",
   "execution_count": 41,
   "id": "48d017de",
   "metadata": {},
   "outputs": [],
   "source": [
    "mysgd= optimizers.SGD(lr= 0.1, decay= 1e-6 ,momentum=0.9, nesterov=True)\n",
    "ann.compile(loss='categorical_crossentropy', optimizer=mysgd, metrics=['accuracy'])"
   ]
  },
  {
   "cell_type": "code",
   "execution_count": 42,
   "id": "36847713",
   "metadata": {},
   "outputs": [
    {
     "name": "stdout",
     "output_type": "stream",
     "text": [
      "Epoch 1/10\n",
      "1563/1563 [==============================] - 4s 3ms/step - loss: 2.2150 - accuracy: 0.1345\n",
      "Epoch 2/10\n",
      "1563/1563 [==============================] - 4s 3ms/step - loss: 2.0478 - accuracy: 0.1928\n",
      "Epoch 3/10\n",
      "1563/1563 [==============================] - 4s 3ms/step - loss: 2.0740 - accuracy: 0.1843\n",
      "Epoch 4/10\n",
      "1563/1563 [==============================] - 4s 3ms/step - loss: 2.0845 - accuracy: 0.1814\n",
      "Epoch 5/10\n",
      "1563/1563 [==============================] - 4s 3ms/step - loss: 2.0767 - accuracy: 0.1832\n",
      "Epoch 6/10\n",
      "1563/1563 [==============================] - 4s 3ms/step - loss: 2.0760 - accuracy: 0.1870\n",
      "Epoch 7/10\n",
      "1563/1563 [==============================] - 4s 3ms/step - loss: 2.0665 - accuracy: 0.1877\n",
      "Epoch 8/10\n",
      "1563/1563 [==============================] - 4s 3ms/step - loss: 2.0677 - accuracy: 0.1896\n",
      "Epoch 9/10\n",
      "1563/1563 [==============================] - 4s 3ms/step - loss: 2.0559 - accuracy: 0.1995\n",
      "Epoch 10/10\n",
      "1563/1563 [==============================] - 4s 3ms/step - loss: 2.0686 - accuracy: 0.1960\n"
     ]
    },
    {
     "data": {
      "text/plain": [
       "<tensorflow.python.keras.callbacks.History at 0x2560a62aac0>"
      ]
     },
     "execution_count": 42,
     "metadata": {},
     "output_type": "execute_result"
    }
   ],
   "source": [
    "ann.fit(x_train, y_train, epochs=50, batch_size=32)"
   ]
  },
  {
   "cell_type": "markdown",
   "id": "ca39411d",
   "metadata": {},
   "source": [
    "avec une 'Accurancy sur le train' de 19,60%.. c'est très faible."
   ]
  },
  {
   "cell_type": "code",
   "execution_count": 214,
   "id": "34ee5dc4",
   "metadata": {},
   "outputs": [
    {
     "data": {
      "text/plain": [
       "array([[1.0000000e+00, 0.0000000e+00, 1.0000000e+00, 1.0000000e+00,\n",
       "        0.0000000e+00, 0.0000000e+00, 0.0000000e+00, 8.0443917e-17,\n",
       "        1.0000000e+00, 1.0000000e+00],\n",
       "       [1.0000000e+00, 0.0000000e+00, 1.4863066e-10, 1.0000000e+00,\n",
       "        0.0000000e+00, 2.2041937e-33, 0.0000000e+00, 0.0000000e+00,\n",
       "        1.0000000e+00, 1.0000000e+00],\n",
       "       [1.0000000e+00, 0.0000000e+00, 1.0000000e+00, 1.0000000e+00,\n",
       "        0.0000000e+00, 5.5144405e-31, 0.0000000e+00, 2.9711333e-30,\n",
       "        1.0000000e+00, 1.0000000e+00],\n",
       "       [1.0000000e+00, 0.0000000e+00, 1.0000000e+00, 1.0000000e+00,\n",
       "        0.0000000e+00, 0.0000000e+00, 0.0000000e+00, 6.2175205e-27,\n",
       "        1.0000000e+00, 1.0000000e+00],\n",
       "       [1.0000000e+00, 0.0000000e+00, 1.4450940e-06, 1.0000000e+00,\n",
       "        0.0000000e+00, 2.4200280e-27, 0.0000000e+00, 1.7230349e-06,\n",
       "        1.0000000e+00, 1.0000000e+00]], dtype=float32)"
      ]
     },
     "execution_count": 214,
     "metadata": {},
     "output_type": "execute_result"
    }
   ],
   "source": [
    "y_pred_ann = ann.predict(x_test)\n",
    "y_pred_ann[:5]"
   ]
  },
  {
   "cell_type": "code",
   "execution_count": 219,
   "id": "476d1608",
   "metadata": {},
   "outputs": [
    {
     "data": {
      "text/plain": [
       "[0, 0, 0, 0, 0, 0, 0, 0, 0, 0]"
      ]
     },
     "execution_count": 219,
     "metadata": {},
     "output_type": "execute_result"
    }
   ],
   "source": [
    "y_classes_ann = [np.argmax(element) for element in y_pred_ann]\n",
    "y_classes_ann[:10]"
   ]
  },
  {
   "cell_type": "code",
   "execution_count": 222,
   "id": "6432cc3c",
   "metadata": {},
   "outputs": [],
   "source": [
    "y_test_r = y_test_data.reshape(-1,)"
   ]
  },
  {
   "cell_type": "code",
   "execution_count": 223,
   "id": "f3434731",
   "metadata": {},
   "outputs": [
    {
     "data": {
      "text/plain": [
       "array([3, 8, 8, 0, 6, 6, 1, 6, 3, 1], dtype=uint8)"
      ]
     },
     "execution_count": 223,
     "metadata": {},
     "output_type": "execute_result"
    }
   ],
   "source": [
    "y_test_r[:10]"
   ]
  },
  {
   "cell_type": "markdown",
   "id": "0d3d608b",
   "metadata": {},
   "source": [
    "on voit que l'algorithme se plente completement. sur les 10 premieres observations"
   ]
  },
  {
   "cell_type": "code",
   "execution_count": 61,
   "id": "027cae57",
   "metadata": {},
   "outputs": [],
   "source": [
    "def plot_sample(x,y,index):\n",
    "    plot.figure(figsize=(15,2))\n",
    "    plot.imshow(x[index])\n",
    "    plot.xlabel(classes[y[index]])"
   ]
  },
  {
   "cell_type": "code",
   "execution_count": 225,
   "id": "37db3925",
   "metadata": {},
   "outputs": [
    {
     "data": {
      "image/png": "[encoded data removed]",
      "text/plain": [
       "<Figure size 1080x144 with 1 Axes>"
      ]
     },
     "metadata": {
      "needs_background": "light"
     },
     "output_type": "display_data"
    }
   ],
   "source": [
    "plot_sample(x_test,y_test_r,5)"
   ]
  },
  {
   "cell_type": "code",
   "execution_count": 226,
   "id": "d81a879c",
   "metadata": {},
   "outputs": [
    {
     "data": {
      "text/plain": [
       "'airplane'"
      ]
     },
     "execution_count": 226,
     "metadata": {},
     "output_type": "execute_result"
    }
   ],
   "source": [
    "classes[y_classes_ann[5]]"
   ]
  },
  {
   "cell_type": "markdown",
   "id": "daddd975",
   "metadata": {},
   "source": [
    "sur la derniere Observation l'algorithme nous predit airplane alors qu'on a une grenouille."
   ]
  },
  {
   "cell_type": "markdown",
   "id": "10af0db7",
   "metadata": {},
   "source": [
    "# on fait un nouveau modele de reseau de neuronne convultif"
   ]
  },
  {
   "cell_type": "code",
   "execution_count": 128,
   "id": "b5e35864",
   "metadata": {},
   "outputs": [],
   "source": [
    "cnn= models.Sequential([\n",
    "    layers.Conv2D(filters=32, kernel_size=(3,3), activation='relu',input_shape=(32,32,3)),\n",
    "    layers.MaxPooling2D((4,4)),\n",
    "    \n",
    "    layers.Conv2D(filters=64, kernel_size=(3, 3), activation='relu'),\n",
    "    layers.MaxPooling2D((4, 4)),\n",
    "    \n",
    "    layers.Flatten(),\n",
    "    layers.Dense(64, activation='relu'),\n",
    "    layers.Dense(10, activation='softmax')\n",
    "])"
   ]
  },
  {
   "cell_type": "code",
   "execution_count": 115,
   "id": "05fe8369",
   "metadata": {},
   "outputs": [],
   "source": [
    "input_shape=(32,32,3)"
   ]
  },
  {
   "cell_type": "code",
   "execution_count": 140,
   "id": "a4f2acd5",
   "metadata": {},
   "outputs": [],
   "source": [
    "cnn.compile(loss='categorical_crossentropy', optimizer='adam', metrics=['accuracy'])"
   ]
  },
  {
   "cell_type": "code",
   "execution_count": 141,
   "id": "ad26d1ed",
   "metadata": {},
   "outputs": [
    {
     "name": "stdout",
     "output_type": "stream",
     "text": [
      "Epoch 1/10\n",
      "1563/1563 [==============================] - 16s 10ms/step - loss: 2.0504 - accuracy: 0.3152\n",
      "Epoch 2/10\n",
      "1563/1563 [==============================] - 15s 10ms/step - loss: 1.5940 - accuracy: 0.4256\n",
      "Epoch 3/10\n",
      "1563/1563 [==============================] - 16s 10ms/step - loss: 1.4891 - accuracy: 0.4666\n",
      "Epoch 4/10\n",
      "1563/1563 [==============================] - 17s 11ms/step - loss: 1.4194 - accuracy: 0.4967\n",
      "Epoch 5/10\n",
      "1563/1563 [==============================] - 16s 10ms/step - loss: 1.3564 - accuracy: 0.5192\n",
      "Epoch 6/10\n",
      "1563/1563 [==============================] - 16s 10ms/step - loss: 1.3124 - accuracy: 0.5352\n",
      "Epoch 7/10\n",
      "1563/1563 [==============================] - 17s 11ms/step - loss: 1.2757 - accuracy: 0.5474\n",
      "Epoch 8/10\n",
      "1563/1563 [==============================] - 17s 11ms/step - loss: 1.2477 - accuracy: 0.5607\n",
      "Epoch 9/10\n",
      "1563/1563 [==============================] - 18s 12ms/step - loss: 1.2188 - accuracy: 0.5698\n",
      "Epoch 10/10\n",
      "1563/1563 [==============================] - 17s 11ms/step - loss: 1.1939 - accuracy: 0.5806\n"
     ]
    },
    {
     "data": {
      "text/plain": [
       "<tensorflow.python.keras.callbacks.History at 0x25604d24e50>"
      ]
     },
     "execution_count": 141,
     "metadata": {},
     "output_type": "execute_result"
    }
   ],
   "source": [
    "cnn.fit(x_train, y_train, epochs=10)"
   ]
  },
  {
   "cell_type": "code",
   "execution_count": 186,
   "id": "fe3b2695",
   "metadata": {},
   "outputs": [
    {
     "name": "stdout",
     "output_type": "stream",
     "text": [
      "313/313 [==============================] - 1s 4ms/step - loss: 1.3099 - accuracy: 0.5560\n"
     ]
    },
    {
     "data": {
      "text/plain": [
       "[1.3099298477172852, 0.5559999942779541]"
      ]
     },
     "execution_count": 186,
     "metadata": {},
     "output_type": "execute_result"
    }
   ],
   "source": [
    "cnn.evaluate(x_test, y_test)"
   ]
  },
  {
   "cell_type": "code",
   "execution_count": 227,
   "id": "8affa8bc",
   "metadata": {},
   "outputs": [
    {
     "name": "stdout",
     "output_type": "stream",
     "text": [
      "100/100 [==============================] - 1s 10ms/step - loss: 1.3099 - accuracy: 0.5560\n",
      "Test accuracy: 0.5559999942779541\n"
     ]
    }
   ],
   "source": [
    "score_cnn = cnn.evaluate(x_test, y_test,batch_size=100,steps=len(x_test)/100)\n",
    "print(\"Test accuracy:\", score_cnn[1])"
   ]
  },
  {
   "cell_type": "markdown",
   "id": "5d732cb9",
   "metadata": {},
   "source": [
    "notre reseau de neurone convultif a une precision de 55% c'est juste la moyenne"
   ]
  },
  {
   "cell_type": "code",
   "execution_count": 207,
   "id": "f7d94331",
   "metadata": {},
   "outputs": [
    {
     "data": {
      "text/plain": [
       "array([[1.36989951e-02, 3.54693651e-01, 5.08628562e-02, 1.19185679e-01,\n",
       "        3.07390410e-02, 1.26283644e-02, 2.80992799e-02, 3.70506058e-03,\n",
       "        1.85323641e-01, 2.01063380e-01],\n",
       "       [1.04197152e-01, 3.11292291e-01, 4.13254456e-05, 6.09019844e-06,\n",
       "        2.00930936e-06, 2.16917783e-06, 4.19547348e-07, 4.74375923e-07,\n",
       "        5.52062988e-01, 3.23950164e-02],\n",
       "       [7.91821033e-02, 2.14152839e-02, 4.89538116e-03, 4.98273061e-04,\n",
       "        1.75166945e-03, 2.35277286e-04, 6.81392048e-05, 1.06479500e-04,\n",
       "        8.87424886e-01, 4.42255568e-03],\n",
       "       [6.47113979e-01, 1.18722115e-02, 2.89594792e-02, 2.10248190e-03,\n",
       "        3.74975265e-03, 3.79021396e-04, 1.22311976e-04, 2.43256596e-04,\n",
       "        3.00219953e-01, 5.23758773e-03],\n",
       "       [1.68069347e-03, 2.73383758e-03, 7.22819269e-02, 4.97576483e-02,\n",
       "        6.38339892e-02, 2.40945444e-02, 7.77736545e-01, 4.50035033e-04,\n",
       "        6.77318918e-03, 6.57584635e-04]], dtype=float32)"
      ]
     },
     "execution_count": 207,
     "metadata": {},
     "output_type": "execute_result"
    }
   ],
   "source": [
    "y_pred_cnn = cnn.predict(x_test)\n",
    "y_pred_cnn[:5]"
   ]
  },
  {
   "cell_type": "code",
   "execution_count": 228,
   "id": "4264d2d0",
   "metadata": {},
   "outputs": [
    {
     "data": {
      "text/plain": [
       "[1, 8, 8, 0, 6, 6, 5, 6, 3, 1]"
      ]
     },
     "execution_count": 228,
     "metadata": {},
     "output_type": "execute_result"
    }
   ],
   "source": [
    "y_classes_cnn = [np.argmax(element) for element in y_pred_cnn]\n",
    "y_classes_cnn[:10]"
   ]
  },
  {
   "cell_type": "code",
   "execution_count": 229,
   "id": "eb6cd5db",
   "metadata": {},
   "outputs": [
    {
     "data": {
      "text/plain": [
       "array([3, 8, 8, 0, 6, 6, 1, 6, 3, 1], dtype=uint8)"
      ]
     },
     "execution_count": 229,
     "metadata": {},
     "output_type": "execute_result"
    }
   ],
   "source": [
    "y_test_r[:10]"
   ]
  },
  {
   "cell_type": "markdown",
   "id": "7ab2b2a0",
   "metadata": {},
   "source": [
    "sur 10 obseravtions il predit bien les 8.\n",
    "ce qui n'est pas à sous estimer."
   ]
  },
  {
   "cell_type": "code",
   "execution_count": 230,
   "id": "117e7b38",
   "metadata": {},
   "outputs": [
    {
     "data": {
      "image/png": "[encoded data removed]",
      "text/plain": [
       "<Figure size 1080x144 with 1 Axes>"
      ]
     },
     "metadata": {
      "needs_background": "light"
     },
     "output_type": "display_data"
    }
   ],
   "source": [
    "plot_sample(x_test,y_test_r,10)"
   ]
  },
  {
   "cell_type": "code",
   "execution_count": 231,
   "id": "a4449f95",
   "metadata": {},
   "outputs": [
    {
     "data": {
      "text/plain": [
       "'ship'"
      ]
     },
     "execution_count": 231,
     "metadata": {},
     "output_type": "execute_result"
    }
   ],
   "source": [
    "classes[y_classes_cnn[10]]"
   ]
  },
  {
   "cell_type": "markdown",
   "id": "ff67ad1d",
   "metadata": {},
   "source": [
    "il classe un avion dans la categorie bateau"
   ]
  },
  {
   "cell_type": "code",
   "execution_count": 232,
   "id": "b8a2f3eb",
   "metadata": {},
   "outputs": [
    {
     "data": {
      "image/png": "[encoded data removed]",
      "text/plain": [
       "<Figure size 1080x144 with 1 Axes>"
      ]
     },
     "metadata": {
      "needs_background": "light"
     },
     "output_type": "display_data"
    }
   ],
   "source": [
    "plot_sample(x_test,y_test_r,5)"
   ]
  },
  {
   "cell_type": "code",
   "execution_count": 233,
   "id": "1a14a8ac",
   "metadata": {},
   "outputs": [
    {
     "data": {
      "text/plain": [
       "'frog'"
      ]
     },
     "execution_count": 233,
     "metadata": {},
     "output_type": "execute_result"
    }
   ],
   "source": [
    "classes[y_classes_cnn[5]]"
   ]
  },
  {
   "cell_type": "markdown",
   "id": "29f364fe",
   "metadata": {},
   "source": [
    "il classe bien la grenouille dans la categorie frog"
   ]
  },
  {
   "cell_type": "markdown",
   "id": "a167a56f",
   "metadata": {},
   "source": [
    "# on realise un dernier reseau de neurone convultif "
   ]
  },
  {
   "cell_type": "code",
   "execution_count": 142,
   "id": "8f161f15",
   "metadata": {},
   "outputs": [],
   "source": [
    "model = keras.Sequential(\n",
    "    [\n",
    "        keras.Input(shape=input_shape),\n",
    "        layers.Conv2D(64, kernel_size=(3, 3), padding = \"same\", activation=\"relu\"),\n",
    "        layers.BatchNormalization(),\n",
    "        layers.Conv2D(64, kernel_size=(3, 3), padding = \"same\", activation=\"relu\"),\n",
    "        layers.BatchNormalization(),\n",
    "        layers.MaxPooling2D(pool_size=(2, 2)),\n",
    "        layers.Conv2D(128, kernel_size=(3, 3), padding = \"same\", activation=\"relu\"),\n",
    "        layers.BatchNormalization(),\n",
    "        layers.Conv2D(128, kernel_size=(3, 3), padding = \"same\", activation=\"relu\"),\n",
    "        layers.BatchNormalization(),\n",
    "        layers.MaxPooling2D(pool_size=(2, 2)),\n",
    "        layers.Conv2D(256, kernel_size=(3, 3), padding = \"same\", activation=\"relu\"),\n",
    "        layers.BatchNormalization(),\n",
    "        layers.Conv2D(256, kernel_size=(3, 3), padding = \"same\", activation=\"relu\"),\n",
    "        layers.BatchNormalization(),\n",
    "        layers.Conv2D(256, kernel_size=(3, 3), padding = \"same\", activation=\"relu\"),\n",
    "        layers.BatchNormalization(),     \n",
    "        layers.MaxPooling2D(pool_size=(2, 2)),\n",
    "        layers.Conv2D(512, kernel_size=(3, 3), padding = \"same\", activation=\"relu\"),\n",
    "        layers.BatchNormalization(),\n",
    "        layers.Conv2D(512, kernel_size=(3, 3), padding = \"same\", activation=\"relu\"),\n",
    "        layers.BatchNormalization(),\n",
    "        layers.Conv2D(512, kernel_size=(3, 3), padding = \"same\", activation=\"relu\"),\n",
    "        layers.BatchNormalization(),     \n",
    "        layers.MaxPooling2D(pool_size=(2, 2)),\n",
    "        layers.Conv2D(512, kernel_size=(3, 3), padding = \"same\", activation=\"relu\"),\n",
    "        layers.BatchNormalization(),\n",
    "        layers.Conv2D(512, kernel_size=(3, 3), padding = \"same\", activation=\"relu\"),\n",
    "        layers.BatchNormalization(),\n",
    "        layers.Conv2D(512, kernel_size=(3, 3), padding = \"same\", activation=\"relu\"),\n",
    "        layers.BatchNormalization(),     \n",
    "        layers.MaxPooling2D(pool_size=(2, 2)),      \n",
    "        layers.Flatten(),\n",
    "        layers.Dense(num_classe, activation=\"softmax\"),\n",
    "    ]\n",
    ")"
   ]
  },
  {
   "cell_type": "code",
   "execution_count": 147,
   "id": "40167b77",
   "metadata": {},
   "outputs": [],
   "source": [
    "model.compile(loss='categorical_crossentropy', optimizer='adam', metrics=['accuracy'])"
   ]
  },
  {
   "cell_type": "code",
   "execution_count": 148,
   "id": "8cca0fb1",
   "metadata": {},
   "outputs": [
    {
     "name": "stdout",
     "output_type": "stream",
     "text": [
      "Epoch 1/10\n",
      "1563/1563 [==============================] - 2567s 2s/step - loss: 1.3594 - accuracy: 0.5247\n",
      "Epoch 2/10\n",
      "1563/1563 [==============================] - 2353s 2s/step - loss: 0.8817 - accuracy: 0.7045\n",
      "Epoch 3/10\n",
      "1563/1563 [==============================] - 2065s 1s/step - loss: 0.6948 - accuracy: 0.7709\n",
      "Epoch 4/10\n",
      "1563/1563 [==============================] - 2071s 1s/step - loss: 0.5588 - accuracy: 0.8170\n",
      "Epoch 5/10\n",
      "1563/1563 [==============================] - 2069s 1s/step - loss: 0.4576 - accuracy: 0.8478\n",
      "Epoch 6/10\n",
      "1563/1563 [==============================] - 2066s 1s/step - loss: 0.3712 - accuracy: 0.8775\n",
      "Epoch 7/10\n",
      "1563/1563 [==============================] - 2087s 1s/step - loss: 0.2817 - accuracy: 0.9077\n",
      "Epoch 8/10\n",
      "1563/1563 [==============================] - 2067s 1s/step - loss: 0.2242 - accuracy: 0.9262\n",
      "Epoch 9/10\n",
      "1563/1563 [==============================] - 2059s 1s/step - loss: 0.1691 - accuracy: 0.9437\n",
      "Epoch 10/10\n",
      "1563/1563 [==============================] - 2059s 1s/step - loss: 0.1363 - accuracy: 0.9549\n"
     ]
    },
    {
     "data": {
      "text/plain": [
       "<tensorflow.python.keras.callbacks.History at 0x256003aea90>"
      ]
     },
     "execution_count": 148,
     "metadata": {},
     "output_type": "execute_result"
    }
   ],
   "source": [
    "model.fit(x_train, y_train, epochs=10)"
   ]
  },
  {
   "cell_type": "markdown",
   "id": "e2ba1bba",
   "metadata": {},
   "source": [
    "on trouve pour notre dernier epoch un 'accuracy' superieur à 95%.\n",
    "ce dernier modele classe bien les image de CIFAR10"
   ]
  },
  {
   "cell_type": "code",
   "execution_count": 185,
   "id": "131a8d61",
   "metadata": {},
   "outputs": [
    {
     "name": "stdout",
     "output_type": "stream",
     "text": [
      "313/313 [==============================] - 38s 122ms/step - loss: 0.6492 - accuracy: 0.8276\n"
     ]
    },
    {
     "data": {
      "text/plain": [
       "[0.6492181420326233, 0.8276000022888184]"
      ]
     },
     "execution_count": 185,
     "metadata": {},
     "output_type": "execute_result"
    }
   ],
   "source": [
    "model.evaluate(x_test, y_test)"
   ]
  },
  {
   "cell_type": "code",
   "execution_count": 206,
   "id": "ff1dcd55",
   "metadata": {},
   "outputs": [
    {
     "name": "stdout",
     "output_type": "stream",
     "text": [
      "100/100 [==============================] - 30s 303ms/step - loss: 0.6492 - accuracy: 0.8276\n",
      "Test accuracy: 0.8276000022888184\n"
     ]
    }
   ],
   "source": [
    "score = model.evaluate(x_test, y_test,batch_size=100,steps=len(x_test)/100)\n",
    "print(\"Test accuracy:\", score[1])"
   ]
  },
  {
   "cell_type": "code",
   "execution_count": 184,
   "id": "09b29382",
   "metadata": {},
   "outputs": [
    {
     "data": {
      "text/plain": [
       "(10000, 32, 32, 3)"
      ]
     },
     "execution_count": 184,
     "metadata": {},
     "output_type": "execute_result"
    }
   ],
   "source": [
    "x_test= x_test_data\n",
    "x_test.shape"
   ]
  },
  {
   "cell_type": "code",
   "execution_count": 187,
   "id": "a7a1b644",
   "metadata": {},
   "outputs": [
    {
     "data": {
      "text/plain": [
       "array([[2.47317395e-04, 3.86332307e-04, 5.86550857e-04, 9.91621137e-01,\n",
       "        1.89409111e-05, 5.63797029e-03, 8.37498170e-04, 1.76095098e-04,\n",
       "        7.55695291e-05, 4.12638910e-04],\n",
       "       [4.28247449e-06, 1.89708683e-11, 2.21233795e-11, 3.08674995e-11,\n",
       "        7.53613938e-15, 1.26861598e-14, 1.69873837e-11, 2.18947217e-15,\n",
       "        9.99995708e-01, 3.73720125e-13],\n",
       "       [2.56398087e-03, 3.87082189e-01, 3.06128385e-03, 9.27287154e-03,\n",
       "        6.58207573e-04, 3.49785341e-03, 1.44627020e-02, 8.90612544e-04,\n",
       "        5.37843168e-01, 4.06671576e-02],\n",
       "       [8.64152730e-01, 4.47358564e-03, 4.10072593e-04, 5.02080366e-04,\n",
       "        1.62594079e-04, 5.91678436e-05, 9.92921923e-05, 4.30147047e-05,\n",
       "        1.04894124e-01, 2.52032764e-02],\n",
       "       [3.67606881e-05, 6.92727508e-06, 2.63326583e-05, 5.58952925e-05,\n",
       "        4.47587445e-06, 2.65563012e-05, 9.99618530e-01, 1.71102802e-05,\n",
       "        1.96608496e-04, 1.07608375e-05]], dtype=float32)"
      ]
     },
     "execution_count": 187,
     "metadata": {},
     "output_type": "execute_result"
    }
   ],
   "source": [
    "y_pred = model.predict(x_test)\n",
    "y_pred[:5]"
   ]
  },
  {
   "cell_type": "code",
   "execution_count": 212,
   "id": "a68cd44d",
   "metadata": {},
   "outputs": [
    {
     "data": {
      "text/plain": [
       "[3, 8, 8, 0, 6, 6, 1, 6, 3, 1]"
      ]
     },
     "execution_count": 212,
     "metadata": {},
     "output_type": "execute_result"
    }
   ],
   "source": [
    "y_classes = [np.argmax(element) for element in y_pred]\n",
    "y_classes[:10]"
   ]
  },
  {
   "cell_type": "code",
   "execution_count": 234,
   "id": "02ad9d5c",
   "metadata": {},
   "outputs": [
    {
     "data": {
      "text/plain": [
       "array([3, 8, 8, 0, 6, 6, 1, 6, 3, 1], dtype=uint8)"
      ]
     },
     "execution_count": 234,
     "metadata": {},
     "output_type": "execute_result"
    }
   ],
   "source": [
    "y_test_r[:10]"
   ]
  },
  {
   "cell_type": "markdown",
   "id": "7428fef6",
   "metadata": {},
   "source": [
    "ce dernier classe justement toutes les images avec un precision a plus de 82%"
   ]
  },
  {
   "cell_type": "code",
   "execution_count": 235,
   "id": "f54388c1",
   "metadata": {},
   "outputs": [
    {
     "data": {
      "image/png": "[encoded data removed]",
      "text/plain": [
       "<Figure size 1080x144 with 1 Axes>"
      ]
     },
     "metadata": {
      "needs_background": "light"
     },
     "output_type": "display_data"
    }
   ],
   "source": [
    "plot_sample(x_test, y_test_r,20)"
   ]
  },
  {
   "cell_type": "code",
   "execution_count": 236,
   "id": "81af45e9",
   "metadata": {},
   "outputs": [
    {
     "data": {
      "text/plain": [
       "'horse'"
      ]
     },
     "execution_count": 236,
     "metadata": {},
     "output_type": "execute_result"
    }
   ],
   "source": [
    "classes[y_classes[20]]"
   ]
  },
  {
   "cell_type": "markdown",
   "id": "5f2efaf6",
   "metadata": {},
   "source": [
    "on peut voir avec le precedent exemple que ce dernier modele est le meilleur pour le classement des image de Cifar 10"
   ]
  }
 ],
 "metadata": {
  "kernelspec": {
   "display_name": "Python 3",
   "language": "python",
   "name": "python3"
  },
  "language_info": {
   "codemirror_mode": {
    "name": "ipython",
    "version": 3
   },
   "file_extension": ".py",
   "mimetype": "text/x-python",
   "name": "python",
   "nbconvert_exporter": "python",
   "pygments_lexer": "ipython3",
   "version": "3.8.8"
  }
 },
 "nbformat": 4,
 "nbformat_minor": 5
}
